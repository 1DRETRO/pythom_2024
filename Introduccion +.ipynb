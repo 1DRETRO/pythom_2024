{
 "cells": [
  {
   "cell_type": "code",
   "execution_count": 12,
   "metadata": {},
   "outputs": [],
   "source": [
    "+import numpy as np"
   ]
  },
  {
   "cell_type": "code",
   "execution_count": 37,
   "metadata": {},
   "outputs": [
    {
     "data": {
      "text/plain": [
       "array([ 1.89609914,  8.82361924, -3.30678118, -7.51185589, -7.71088669,\n",
       "        2.00650611, -0.06403923,  8.21510927,  6.7590839 ,  2.62365837,\n",
       "        7.14155111, -0.73574656, -9.00389946, -6.39704471, -4.01926493,\n",
       "       -0.64178907, -2.94942885,  2.16919377,  1.38278685,  0.72759665,\n",
       "       -9.05761151, -0.34402383,  1.47048237, -4.00065358,  6.65195069])"
      ]
     },
     "execution_count": 37,
     "metadata": {},
     "output_type": "execute_result"
    }
   ],
   "source": [
    "vector = np.random.uniform(-10, 10, 25)\n",
    "vector\n"
   ]
  },
  {
   "cell_type": "markdown",
   "metadata": {},
   "source": [
    "Transformar el vector en la raiz cuadrada de 5*5 obtener el promedio de la matriz"
   ]
  }
 ],
 "metadata": {
  "kernelspec": {
   "display_name": "Python 3",
   "language": "python",
   "name": "python3"
  },
  "language_info": {
   "codemirror_mode": {
    "name": "ipython",
    "version": 3
   },
   "file_extension": ".py",
   "mimetype": "text/x-python",
   "name": "python",
   "nbconvert_exporter": "python",
   "pygments_lexer": "ipython3",
   "version": "3.12.3"
  }
 },
 "nbformat": 4,
 "nbformat_minor": 2
}
